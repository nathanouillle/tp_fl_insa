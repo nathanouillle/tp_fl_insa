{
 "cells": [
  {
   "cell_type": "code",
   "execution_count": 2,
   "metadata": {},
   "outputs": [
    {
     "name": "stdout",
     "output_type": "stream",
     "text": [
      "Exists\n"
     ]
    }
   ],
   "source": [
    "import os\n",
    "\n",
    "directory_path = 'models'\n",
    "if not os.path.exists(directory_path):\n",
    "    print('Doesnt exist')\n",
    "else:\n",
    "    print('Exists')\n"
   ]
  },
  {
   "cell_type": "code",
   "execution_count": null,
   "metadata": {},
   "outputs": [],
   "source": [
    "import numpy as np\n",
    "import pandas as pd\n",
    "import matplotlib.pyplot as plt\n",
    "\n",
    "from aggregators import aggregator_mean\n",
    "from preprocessing import load_data,data_to_clients_random\n",
    "from train import net,net_backdoor,create_model\n",
    "from federated_learning import federated\n",
    "\n",
    "n_clients = 5\n",
    "n_backdoor = 2\n",
    "epochs = 2\n",
    "n_adversary = 1\n",
    "\n",
    "# load the dataset\n",
    "(X_train, y_train, X_test, y_test,X_test_car,y_test_car) = load_data()\n",
    "\n",
    "# distributed data to clients\n",
    "X_clients, y_clients = data_to_clients_random(X_train, y_train,n_clients=n_clients)\n",
    "\n",
    "# federated learning\n",
    "\n",
    "federated_learning, model, FL_weights = federated(X_clients, y_clients, X_test, y_test, fl_iterations=epochs, n_backdoor=0,model_name='FL-4')\n",
    "\n",
    "federated_learning_backdoor,model_backdoor, FL_weights_backdoor = federated(X_clients, y_clients, X_test, y_test, fl_iterations=epochs, n_backdoor=n_backdoor)\n",
    "\n",
    "accu,accu_backdoor = 0,0\n",
    "for result1,result2 in zip(model.predict(X_test_car),model_backdoor.predict(X_test_car)):\n",
    "    if np.argmax(result1) == 0:\n",
    "        accu +=1\n",
    "    if np.argmax(result2) == 0:\n",
    "        accu_backdoor +=1\n",
    "\n",
    "accu,accu_backdoor = accu / len(y_test_car), accu_backdoor / len(y_test_car)\n",
    "\n",
    "loss  = model.evaluate(X_train,y_train)\n",
    "loss_backdoor = model_backdoor.evaluate(X_train,y_train)\n",
    "\n",
    "\n",
    "result = abs((accu_backdoor-accu)/(loss[1]-loss_backdoor[1]))\n",
    "\n",
    "print(f\"Percentage of cars classified as airplanes by the model without a backdoor: : {accu}\\n\")\n",
    "print(f\"Percentage of cars classified as airplanes by the model with a backdoor: : {accu_backdoor}\")\n",
    "\n",
    "print(result)"
   ]
  }
 ],
 "metadata": {
  "kernelspec": {
   "display_name": ".tp",
   "language": "python",
   "name": "python3"
  },
  "language_info": {
   "codemirror_mode": {
    "name": "ipython",
    "version": 3
   },
   "file_extension": ".py",
   "mimetype": "text/x-python",
   "name": "python",
   "nbconvert_exporter": "python",
   "pygments_lexer": "ipython3",
   "version": "3.10.11"
  }
 },
 "nbformat": 4,
 "nbformat_minor": 2
}
